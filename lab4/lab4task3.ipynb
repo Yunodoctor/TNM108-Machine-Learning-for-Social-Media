{
 "cells": [
  {
   "cell_type": "code",
   "execution_count": 1,
   "metadata": {},
   "outputs": [
    {
     "name": "stdout",
     "output_type": "stream",
     "text": [
      "Collecting summa\n",
      "\u001b[?25l  Downloading https://files.pythonhosted.org/packages/45/3b/1c7dc435d05aef474c4137328400f1e11787b9bffab1f87a3f160c1fef54/summa-1.2.0.tar.gz (54kB)\n",
      "\u001b[K     |████████████████████████████████| 61kB 2.0MB/s eta 0:00:011\n",
      "\u001b[?25hRequirement already satisfied: scipy>=0.19 in /Library/Frameworks/Python.framework/Versions/3.7/lib/python3.7/site-packages (from summa) (1.2.1)\n",
      "Requirement already satisfied: numpy>=1.8.2 in /Library/Frameworks/Python.framework/Versions/3.7/lib/python3.7/site-packages (from scipy>=0.19->summa) (1.16.4)\n",
      "Building wheels for collected packages: summa\n",
      "  Building wheel for summa (setup.py) ... \u001b[?25ldone\n",
      "\u001b[?25h  Created wheel for summa: filename=summa-1.2.0-cp37-none-any.whl size=54411 sha256=30d4a9fff6f16a6737dde36c502fb8277132c2ff467ccb8fe701a9bc22b4523e\n",
      "  Stored in directory: /Users/emmaweberyd/Library/Caches/pip/wheels/6a/09/68/e2f2861c01d86407c3fa5220826ed7eed2abaa56b001be5970\n",
      "Successfully built summa\n",
      "Installing collected packages: summa\n",
      "Successfully installed summa-1.2.0\n",
      "\u001b[33mWARNING: You are using pip version 19.2.3, however version 19.3.1 is available.\n",
      "You should consider upgrading via the 'pip install --upgrade pip' command.\u001b[0m\n",
      "Note: you may need to restart the kernel to use updated packages.\n"
     ]
    }
   ],
   "source": [
    "pip install summa"
   ]
  },
  {
   "cell_type": "code",
   "execution_count": 3,
   "metadata": {},
   "outputs": [],
   "source": [
    "text = \"Neo-Nazism consists of post-World War II militant social or political mo\\\n",
    "vements seeking to revive and implement the ideology of Nazism. Neo-Nazis seek t\\\n",
    "o employ their ideology to promote hatred and attack minorities, or in some case\\\n",
    "s to create a fascist political state. It is a global phenomenon, with organized\\\n",
    "representation in many countries and international networks. It borrows elements\\\n",
    "from Nazi doctrine, including ultranationalism, racism, xenophobia, ableism, hom\\\n",
    "ophobia, anti-Romanyism, antisemitism, anti-communism and initiating the Fourth\\\n",
    "Reich. Holocaust denial is a common feature, as is the incorporation of Nazi sym\\\n",
    "bols and admiration of Adolf Hitler. In some European and Latin American countri\\\n",
    "es, laws prohibit the expression of pro-Nazi, racist, anti-Semitic, or homophobi\\\n",
    "c views. Many Nazi-related symbols are banned in European countries (especially\\\n",
    "Germany) in an effort to curtail neo-Nazism. The term neo-Nazism describes any p\\\n",
    "ost-World War II militant, social or political movements seeking to revive the i\\\n",
    "deology of Nazism in whole or in part. The term neo-Nazism can also refer to the\\\n",
    "ideology of these movements, which may borrow elements from Nazi doctrine, inclu\\\n",
    "ding ultranationalism, anti-communism, racism, ableism, xenophobia, homophobia,\\\n",
    "anti-Romanyism, antisemitism, up to initiating the Fourth Reich. Holocaust denia\\\n",
    "l is a common feature, as is the incorporation of Nazi symbols and admiration of\\\n",
    "Adolf Hitler. Neo-Nazism is considered a particular form of far-right politics a\\\n",
    "nd right-wing extremism.\""
   ]
  },
  {
   "cell_type": "code",
   "execution_count": 9,
   "metadata": {},
   "outputs": [],
   "source": [
    "text = \"Pippi Longstocking is the main character in an eponymous series of children's\\\n",
    "books by the Swedish author Astrid Lindgren. Pippi was named by Lindgren's daughter Karin,\\\n",
    "who asked her mother for a get-well story when she was off school.\\\n",
    "Pippi is red-haired, freckled, unconventional and superhumanly strong – \\\n",
    "able to lift her horse one-handed. She is playful and unpredictable. She often makes fun of\\\n",
    "unreasonable adults, especially if they are pompous and condescending. Her anger comes out \\\n",
    "in extreme cases, such as when a man ill-treats his horse. Pippi, like Peter Pan, \\\n",
    "does not want to grow up. She is the daughter of a buccaneer captain and has \\\n",
    "adventure stories to tell about that, too. Her four best friends are her horse \\\n",
    "and monkey, and the neighbours' children, Tommy and Annika.\\\n",
    "After being rejected by Bonnier Publishers in 1944, Lindgren's first manuscript was\\\n",
    "accepted by Rabén and Sjögren. The first three Pippi chapter books were published from\\\n",
    "1945 to 1948, followed by three short stories and a number of picture book adaptations.\\\n",
    "They have been translated into 76 languages as of 2018[1] and made into several films and television series.\"\n",
    "\n"
   ]
  },
  {
   "cell_type": "code",
   "execution_count": 17,
   "metadata": {},
   "outputs": [],
   "source": [
    "text= \"The Sony a6000 is a great value and an amazing camera! The full-size APS-C sensor (same as DSLRs) \\\n",
    "gets plenty of dynamic range and does a good job at keeping noise at bay when it gets dim. The burst mode \\\n",
    "is amazingly fast and the buffer is large enough to hold a large burst, but make sure to get a fast memory \\\n",
    "card since the camera can write up to 35 MB/s and you will want that to avoid taking a long time to save bursts. \\\n",
    "(You can't change some settings or review photos while the camera is still saving photos.) You get used to the \\\n",
    "interface within a week and there is a nice custom menu as well as remappable buttons. There are 2 dials that are \\\n",
    "used for the usual functions, with some remappability. The camera has an electronic viewfinder that is clear and \\\n",
    "bright, but oddly enough parts of the interface seem squished compared to the display, and there is no display mode \\\n",
    "for the viewfinder that hides everything but the picture. The proximity sensor for the viewfinder is a bit too \\\n",
    "sensitive, so holding the camera close to your body might disable the display when you didn't mean to. The display \\\n",
    "doesn't get as bright as 2016 smartphones like the Samsung S7, but it's still workable in daylight. The display tilts, \\\n",
    "but not all the way around to take selfies, which is a bit disappointing. The camera has a built-in flash that you \\\n",
    "can tilt for ceiling bounces as well as a 'smart hotshoe' for flashes and external microphones. The camera has a \\\n",
    "decent battery life and recharges over MicroUSB, so you can use phone chargers for it, which is very convenient. \\\n",
    "If you have an Android phone, the camera has NFC, so you can tap to send a picture to your phone in 30 seconds. \\\n",
    "The a6000 has a few weaknesses. Video from the camrea is very high quality and the manual controls work well, but \\\n",
    "the camera is not capable of 4K video nor using 3.5mm external microphones. The lens system has all the lenses you \\\n",
    "would need, but used lenses will not be as cheap or plentiful as the four thirds system that Panasonic and Olympus \\\n",
    "use. And you should not expect this to fit in all but the largest pockets (consider the RX100 series for pocketable \\\n",
    "cameras).\""
   ]
  },
  {
   "cell_type": "code",
   "execution_count": 18,
   "metadata": {},
   "outputs": [
    {
     "name": "stdout",
     "output_type": "stream",
     "text": [
      "(You can't change some settings or review photos while the camera is still saving photos.) You get used to the interface within a week and there is a nice custom menu as well as remappable buttons.\n",
      "The camera has an electronic viewfinder that is clear and bright, but oddly enough parts of the interface seem squished compared to the display, and there is no display mode for the viewfinder that hides everything but the picture.\n",
      "The proximity sensor for the viewfinder is a bit too sensitive, so holding the camera close to your body might disable the display when you didn't mean to.\n"
     ]
    }
   ],
   "source": [
    "from summa.summarizer import summarize\n",
    "# Define length of the summary as a proportion of the text\n",
    "print(summarize(text, ratio=0.2))"
   ]
  },
  {
   "cell_type": "code",
   "execution_count": 19,
   "metadata": {},
   "outputs": [
    {
     "data": {
      "text/plain": [
       "\"(You can't change some settings or review photos while the camera is still saving photos.) You get used to the interface within a week and there is a nice custom menu as well as remappable buttons.\\nThe camera has an electronic viewfinder that is clear and bright, but oddly enough parts of the interface seem squished compared to the display, and there is no display mode for the viewfinder that hides everything but the picture.\\nThe proximity sensor for the viewfinder is a bit too sensitive, so holding the camera close to your body might disable the display when you didn't mean to.\""
      ]
     },
     "execution_count": 19,
     "metadata": {},
     "output_type": "execute_result"
    }
   ],
   "source": [
    "summarize(text, words=100)"
   ]
  },
  {
   "cell_type": "code",
   "execution_count": 20,
   "metadata": {},
   "outputs": [
    {
     "name": "stdout",
     "output_type": "stream",
     "text": [
      "Keywords:\n",
      " gets\n",
      "pockets\n",
      "pocketable\n",
      "burst\n",
      "bursts\n",
      "camera\n",
      "cameras\n",
      "use phone\n",
      "video\n",
      "battery\n",
      "custom\n",
      "external\n",
      "controls\n",
      "aps sensor\n",
      "display\n",
      "photos\n",
      "Top 3 Keywords:\n",
      " gets\n",
      "phone\n",
      "pockets\n",
      "pocketable\n"
     ]
    }
   ],
   "source": [
    "from summa import keywords\n",
    "print(\"Keywords:\\n\",keywords.keywords(text))\n",
    "# to print the top 3 keywords\n",
    "print(\"Top 3 Keywords:\\n\",keywords.keywords(text,words=3))"
   ]
  },
  {
   "cell_type": "code",
   "execution_count": null,
   "metadata": {},
   "outputs": [],
   "source": []
  }
 ],
 "metadata": {
  "kernelspec": {
   "display_name": "Python 3",
   "language": "python",
   "name": "python3"
  },
  "language_info": {
   "codemirror_mode": {
    "name": "ipython",
    "version": 3
   },
   "file_extension": ".py",
   "mimetype": "text/x-python",
   "name": "python",
   "nbconvert_exporter": "python",
   "pygments_lexer": "ipython3",
   "version": "3.7.2"
  }
 },
 "nbformat": 4,
 "nbformat_minor": 2
}
