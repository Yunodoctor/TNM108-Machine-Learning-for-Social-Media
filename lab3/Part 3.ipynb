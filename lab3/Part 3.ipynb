{
 "cells": [
  {
   "cell_type": "code",
   "execution_count": 8,
   "metadata": {},
   "outputs": [],
   "source": [
    "import pandas as pd\n",
    "import numpy as np\n",
    "from sklearn.model_selection import cross_val_score\n",
    "from sklearn.model_selection import cross_val_predict\n",
    "from sklearn.model_selection import ShuffleSplit\n",
    "from sklearn.model_selection import train_test_split\n",
    "from sklearn.model_selection import KFold\n",
    "from sklearn.utils import shuffle\n",
    "from sklearn import svm\n",
    "from sklearn.tree import DecisionTreeRegressor\n",
    "from sklearn.ensemble import RandomForestRegressor\n",
    "from sklearn.linear_model import LinearRegression\n",
    "from sklearn.linear_model import Ridge\n",
    "from sklearn.linear_model import Lasso\n",
    "from sklearn.neighbors import KNeighborsRegressor\n",
    "from sklearn.metrics import mean_squared_error"
   ]
  },
  {
   "cell_type": "code",
   "execution_count": null,
   "metadata": {
    "scrolled": false
   },
   "outputs": [
    {
     "name": "stdout",
     "output_type": "stream",
     "text": [
      "\n",
      "linear regression\n",
      "mean R2: 0.70 (+/- 0.23)\n",
      "MSE: 23.81\n",
      "\n",
      "ridge regression\n",
      "mean R2: 0.70 (+/- 0.24)\n",
      "MSE: 23.99\n",
      "\n",
      "lasso regression\n",
      "mean R2: 0.69 (+/- 0.25)\n",
      "MSE: 25.06\n",
      "\n",
      "decision tree regression\n",
      "mean R2: 0.69 (+/- 0.41)\n",
      "MSE: 24.99\n",
      "\n",
      "random forest regression\n",
      "mean R2: 0.82 (+/- 0.19)\n",
      "MSE: 14.48\n",
      "\n",
      "linear support vector machine\n"
     ]
    }
   ],
   "source": [
    "from sklearn.datasets import load_boston\n",
    "boston = load_boston()\n",
    "X=boston.data\n",
    "Y=boston.target\n",
    "#cv = 10\n",
    "cv = KFold(n_splits=10, shuffle=True, random_state=0)\n",
    "\n",
    "print('\\nlinear regression')\n",
    "lin = LinearRegression()\n",
    "scores = cross_val_score(lin, X, Y, cv=cv)\n",
    "print(\"mean R2: %0.2f (+/- %0.2f)\" % (scores.mean(), scores.std() * 2))\n",
    "predicted = cross_val_predict(lin, X,Y, cv=cv)\n",
    "print(\"MSE: %0.2f\" % mean_squared_error(Y,predicted))\n",
    "\n",
    "print('\\nridge regression')\n",
    "ridge = Ridge(alpha=1.0)\n",
    "scores = cross_val_score(ridge, X, Y, cv=cv)\n",
    "print(\"mean R2: %0.2f (+/- %0.2f)\" % (scores.mean(), scores.std() * 2))\n",
    "predicted = cross_val_predict(ridge, X,Y, cv=cv)\n",
    "print(\"MSE: %0.2f\" % mean_squared_error(Y,predicted))\n",
    "\n",
    "print('\\nlasso regression')\n",
    "lasso = Lasso(alpha=0.1)\n",
    "scores = cross_val_score(lasso, X, Y, cv=cv)\n",
    "print(\"mean R2: %0.2f (+/- %0.2f)\" % (scores.mean(), scores.std() * 2))\n",
    "predicted = cross_val_predict(lasso, X,Y, cv=cv)\n",
    "print(\"MSE: %0.2f\" % mean_squared_error(Y,predicted))\n",
    "\n",
    "print('\\ndecision tree regression')\n",
    "tree = DecisionTreeRegressor(random_state=0)\n",
    "scores = cross_val_score(tree, X, Y, cv=cv)\n",
    "print(\"mean R2: %0.2f (+/- %0.2f)\" % (scores.mean(), scores.std() * 2))\n",
    "predicted = cross_val_predict(tree, X,Y, cv=cv)\n",
    "print(\"MSE: %0.2f\" % mean_squared_error(Y,predicted))\n",
    "\n",
    "print('\\nrandom forest regression')\n",
    "forest = RandomForestRegressor(n_estimators=50, max_depth=None, min_samples_split=2, random_state=0)\n",
    "scores = cross_val_score(forest, X, Y, cv=cv)\n",
    "print(\"mean R2: %0.2f (+/- %0.2f)\" % (scores.mean(), scores.std() * 2))\n",
    "predicted = cross_val_predict(forest, X,Y, cv=cv)\n",
    "print(\"MSE: %0.2f\" % mean_squared_error(Y,predicted))\n",
    "\n",
    "print('\\nlinear support vector machine')\n",
    "svm_lin = svm.SVR(epsilon=0.2,kernel='linear',C=1)\n",
    "scores = cross_val_score(svm_lin, X, Y, cv=cv)\n",
    "print(\"mean R2: %0.2f (+/- %0.2f)\" % (scores.mean(), scores.std() * 2))\n",
    "predicted = cross_val_predict(svm_lin, X,Y, cv=cv)\n",
    "print(\"MSE: %0.2f\" % mean_squared_error(Y,predicted))\n",
    "\n",
    "print('\\nsupport vector machine rbf')\n",
    "clf = svm.SVR(epsilon=0.2,kernel='rbf',C=1.)\n",
    "scores = cross_val_score(clf, X, Y, cv=cv)\n",
    "print(\"mean R2: %0.2f (+/- %0.2f)\" % (scores.mean(), scores.std() * 2))\n",
    "predicted = cross_val_predict(clf, X,Y, cv=cv)\n",
    "print(\"MSE: %0.2f\" % mean_squared_error(Y,predicted))\n",
    "\n",
    "print('\\nknn')\n",
    "knn = KNeighborsRegressor()\n",
    "scores = cross_val_score(knn, X, Y, cv=cv)\n",
    "print(\"mean R2: %0.2f (+/- %0.2f)\" % (scores.mean(), scores.std() * 2))\n",
    "predicted = cross_val_predict(knn, X,Y, cv=cv)\n",
    "print(\"MSE: %0.2f\" % mean_squared_error(Y,predicted))"
   ]
  },
  {
   "cell_type": "code",
   "execution_count": null,
   "metadata": {},
   "outputs": [],
   "source": [
    "best_features=4\n",
    "rfe_lin = RFE(lin,best_features).fit(X,Y)\n",
    "supported_features=rfe_lin.get_support(indices=True)\n",
    "for i in range(0, 4):\n",
    "    z=supported_features[i]\n",
    "    print(i+1,boston.feature_names[z])"
   ]
  },
  {
   "cell_type": "code",
   "execution_count": null,
   "metadata": {},
   "outputs": [],
   "source": []
  },
  {
   "cell_type": "code",
   "execution_count": null,
   "metadata": {},
   "outputs": [],
   "source": []
  }
 ],
 "metadata": {
  "kernelspec": {
   "display_name": "Python 3",
   "language": "python",
   "name": "python3"
  },
  "language_info": {
   "codemirror_mode": {
    "name": "ipython",
    "version": 3
   },
   "file_extension": ".py",
   "mimetype": "text/x-python",
   "name": "python",
   "nbconvert_exporter": "python",
   "pygments_lexer": "ipython3",
   "version": "3.7.4"
  }
 },
 "nbformat": 4,
 "nbformat_minor": 2
}
