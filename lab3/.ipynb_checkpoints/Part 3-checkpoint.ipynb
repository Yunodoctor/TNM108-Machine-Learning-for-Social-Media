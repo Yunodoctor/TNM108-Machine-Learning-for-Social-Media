{
 "cells": [
  {
   "cell_type": "code",
   "execution_count": 1,
   "metadata": {},
   "outputs": [],
   "source": [
    "import pandas as pd\n",
    "import numpy as np\n",
    "from sklearn.model_selection import cross_val_score\n",
    "from sklearn.model_selection import cross_val_predict\n",
    "from sklearn.model_selection import ShuffleSplit\n",
    "from sklearn.model_selection import train_test_split\n",
    "from sklearn.model_selection import KFold\n",
    "from sklearn.utils import shuffle\n",
    "from sklearn import svm\n",
    "from sklearn.tree import DecisionTreeRegressor\n",
    "from sklearn.ensemble import RandomForestRegressor\n",
    "from sklearn.linear_model import LinearRegression\n",
    "from sklearn.linear_model import Ridge\n",
    "from sklearn.linear_model import Lasso\n",
    "from sklearn.neighbors import KNeighborsRegressor\n",
    "from sklearn.metrics import mean_squared_error"
   ]
  },
  {
   "cell_type": "code",
   "execution_count": 20,
   "metadata": {
    "scrolled": false
   },
   "outputs": [
    {
     "name": "stdout",
     "output_type": "stream",
     "text": [
      "\n",
      "linear regression\n",
      "mean R2: 0.70 (+/- 0.23)\n",
      "MSE: 23.81\n",
      "\n",
      "ridge regression\n",
      "mean R2: 0.70 (+/- 0.24)\n",
      "MSE: 23.99\n",
      "\n",
      "lasso regression\n",
      "mean R2: 0.69 (+/- 0.25)\n",
      "MSE: 25.06\n",
      "\n",
      "decision tree regression\n",
      "mean R2: 0.69 (+/- 0.41)\n",
      "MSE: 24.99\n",
      "\n",
      "random forest regression\n",
      "mean R2: 0.82 (+/- 0.19)\n",
      "MSE: 14.48\n",
      "\n",
      "linear support vector machine\n",
      "mean R2: 0.68 (+/- 0.29)\n",
      "MSE: 25.84\n",
      "\n",
      "support vector machine rbf\n",
      "mean R2: -0.00 (+/- 0.06)\n",
      "MSE: 83.88\n",
      "\n",
      "knn\n",
      "mean R2: 0.51 (+/- 0.23)\n",
      "MSE: 40.22\n"
     ]
    }
   ],
   "source": [
    "from sklearn.datasets import load_boston\n",
    "boston = load_boston()\n",
    "X=boston.data\n",
    "Y=boston.target\n",
    "#cv = 10\n",
    "cv = KFold(n_splits=10, shuffle=True, random_state=0)\n",
    "MSE = []\n",
    "R2 = []\n",
    "\n",
    "print('\\nlinear regression')\n",
    "lin = LinearRegression()\n",
    "scores = cross_val_score(lin, X, Y, cv=cv)\n",
    "print(\"mean R2: %0.2f (+/- %0.2f)\" % (scores.mean(), scores.std() * 2))\n",
    "predicted = cross_val_predict(lin, X,Y, cv=cv)\n",
    "print(\"MSE: %0.2f\" % mean_squared_error(Y,predicted))\n",
    "MSE.append(mean_squared_error(Y,predicted))\n",
    "R2.append(scores.mean())\n",
    "\n",
    "print('\\nridge regression')\n",
    "ridge = Ridge(alpha=1.0)\n",
    "scores = cross_val_score(ridge, X, Y, cv=cv)\n",
    "print(\"mean R2: %0.2f (+/- %0.2f)\" % (scores.mean(), scores.std() * 2))\n",
    "predicted = cross_val_predict(ridge, X,Y, cv=cv)\n",
    "print(\"MSE: %0.2f\" % mean_squared_error(Y,predicted))\n",
    "MSE.append(mean_squared_error(Y,predicted))\n",
    "R2.append(scores.mean())\n",
    "\n",
    "print('\\nlasso regression')\n",
    "lasso = Lasso(alpha=0.1)\n",
    "scores = cross_val_score(lasso, X, Y, cv=cv)\n",
    "print(\"mean R2: %0.2f (+/- %0.2f)\" % (scores.mean(), scores.std() * 2))\n",
    "predicted = cross_val_predict(lasso, X,Y, cv=cv)\n",
    "print(\"MSE: %0.2f\" % mean_squared_error(Y,predicted))\n",
    "MSE.append(mean_squared_error(Y,predicted))\n",
    "R2.append(scores.mean())\n",
    "\n",
    "print('\\ndecision tree regression')\n",
    "tree = DecisionTreeRegressor(random_state=0)\n",
    "scores = cross_val_score(tree, X, Y, cv=cv)\n",
    "print(\"mean R2: %0.2f (+/- %0.2f)\" % (scores.mean(), scores.std() * 2))\n",
    "predicted = cross_val_predict(tree, X,Y, cv=cv)\n",
    "print(\"MSE: %0.2f\" % mean_squared_error(Y,predicted))\n",
    "MSE.append(mean_squared_error(Y,predicted))\n",
    "R2.append(scores.mean())\n",
    "\n",
    "print('\\nrandom forest regression')\n",
    "forest = RandomForestRegressor(n_estimators=50, max_depth=None, min_samples_split=2, random_state=0)\n",
    "scores = cross_val_score(forest, X, Y, cv=cv)\n",
    "print(\"mean R2: %0.2f (+/- %0.2f)\" % (scores.mean(), scores.std() * 2))\n",
    "predicted = cross_val_predict(forest, X,Y, cv=cv)\n",
    "print(\"MSE: %0.2f\" % mean_squared_error(Y,predicted))\n",
    "MSE.append(mean_squared_error(Y,predicted))\n",
    "R2.append(scores.mean())\n",
    "\n",
    "print('\\nlinear support vector machine')\n",
    "svm_lin = svm.SVR(epsilon=0.2,kernel='linear',C=1, gamma=\"auto\")\n",
    "scores = cross_val_score(svm_lin, X, Y, cv=cv)\n",
    "print(\"mean R2: %0.2f (+/- %0.2f)\" % (scores.mean(), scores.std() * 2))\n",
    "predicted = cross_val_predict(svm_lin, X,Y, cv=cv)\n",
    "print(\"MSE: %0.2f\" % mean_squared_error(Y,predicted))\n",
    "MSE.append(mean_squared_error(Y,predicted))\n",
    "R2.append(scores.mean())\n",
    "\n",
    "print('\\nsupport vector machine rbf')\n",
    "clf = svm.SVR(epsilon=0.2,kernel='rbf',C=1, gamma=\"auto\")\n",
    "scores = cross_val_score(clf, X, Y, cv=cv)\n",
    "print(\"mean R2: %0.2f (+/- %0.2f)\" % (scores.mean(), scores.std() * 2))\n",
    "predicted = cross_val_predict(clf, X,Y, cv=cv)\n",
    "print(\"MSE: %0.2f\" % mean_squared_error(Y,predicted))\n",
    "MSE.append(mean_squared_error(Y,predicted))\n",
    "\n",
    "print('\\nknn')\n",
    "knn = KNeighborsRegressor()\n",
    "scores = cross_val_score(knn, X, Y, cv=cv)\n",
    "print(\"mean R2: %0.2f (+/- %0.2f)\" % (scores.mean(), scores.std() * 2))\n",
    "predicted = cross_val_predict(knn, X,Y, cv=cv)\n",
    "print(\"MSE: %0.2f\" % mean_squared_error(Y,predicted))\n",
    "MSE.append(mean_squared_error(Y,predicted))"
   ]
  },
  {
   "cell_type": "code",
   "execution_count": 5,
   "metadata": {},
   "outputs": [
    {
     "name": "stdout",
     "output_type": "stream",
     "text": [
      "1 CHAS\n",
      "2 NOX\n",
      "3 RM\n",
      "4 PTRATIO\n"
     ]
    }
   ],
   "source": [
    "from sklearn.feature_selection import RFE\n",
    "best_features=4\n",
    "rfe_lin = RFE(lin,best_features).fit(X,Y)\n",
    "supported_features=rfe_lin.get_support(indices=True)\n",
    "for i in range(0, 4):\n",
    "    z=supported_features[i]\n",
    "    print(i+1,boston.feature_names[z])"
   ]
  },
  {
   "cell_type": "code",
   "execution_count": 12,
   "metadata": {},
   "outputs": [
    {
     "name": "stdout",
     "output_type": "stream",
     "text": [
      "feature selection on linear regression\n",
      "R2: 0.59 (+/- 0.34)\n",
      "MSE: 33.55\n",
      "feature selection ridge regression\n",
      "R2: 0.59 (+/- 0.34)\n",
      "MSE: 33.59\n",
      "feature selection on lasso regression\n",
      "R2: 0.66 (+/- 0.27)\n",
      "MSE: 27.67\n",
      "feature selection on decision tree\n",
      "R2: 0.61 (+/- 0.22)\n",
      "MSE: 31.96\n",
      "feature selection on random forest\n",
      "R2: 0.78 (+/- 0.28)\n",
      "MSE: 17.38\n",
      "feature selection on linear support vector machine\n",
      "R2: 0.58 (+/- 0.35)\n",
      "MSE: 25.84\n"
     ]
    }
   ],
   "source": [
    "MSE_RFE = []\n",
    "print('feature selection on linear regression')\n",
    "rfe_lin = RFE(lin,best_features).fit(X,Y)\n",
    "mask = np.array(rfe_lin.support_)\n",
    "scores = cross_val_score(lin, X[:,mask], Y, cv=cv)\n",
    "print(\"R2: %0.2f (+/- %0.2f)\" % (scores.mean(), scores.std() * 2))\n",
    "predicted = cross_val_predict(lin, X[:,mask],Y, cv=cv)\n",
    "print(\"MSE: %0.2f\" % mean_squared_error(Y,predicted))\n",
    "MSE_RFE.append(mean_squared_error(Y,predicted))\n",
    "\n",
    "print('feature selection ridge regression')\n",
    "rfe_ridge = RFE(ridge,best_features).fit(X,Y)\n",
    "mask = np.array(rfe_ridge.support_)\n",
    "scores = cross_val_score(ridge, X[:,mask], Y, cv=cv)\n",
    "print(\"R2: %0.2f (+/- %0.2f)\" % (scores.mean(), scores.std() * 2))\n",
    "predicted = cross_val_predict(ridge, X[:,mask],Y, cv=cv)\n",
    "print(\"MSE: %0.2f\" % mean_squared_error(Y,predicted))\n",
    "MSE_RFE.append(mean_squared_error(Y,predicted))\n",
    "\n",
    "print('feature selection on lasso regression')\n",
    "rfe_lasso = RFE(lasso,best_features).fit(X,Y)\n",
    "mask = np.array(rfe_lasso.support_)\n",
    "scores = cross_val_score(lasso, X[:,mask], Y, cv=cv)\n",
    "print(\"R2: %0.2f (+/- %0.2f)\" % (scores.mean(), scores.std() * 2))\n",
    "predicted = cross_val_predict(lasso, X[:,mask],Y, cv=cv)\n",
    "print(\"MSE: %0.2f\" % mean_squared_error(Y,predicted))\n",
    "MSE_RFE.append(mean_squared_error(Y,predicted))\n",
    "\n",
    "print('feature selection on decision tree')\n",
    "rfe_tree = RFE(tree,best_features).fit(X,Y)\n",
    "mask = np.array(rfe_tree.support_)\n",
    "scores = cross_val_score(tree, X[:,mask], Y, cv=cv)\n",
    "print(\"R2: %0.2f (+/- %0.2f)\" % (scores.mean(), scores.std()))\n",
    "predicted = cross_val_predict(tree, X[:,mask],Y, cv=cv)\n",
    "print(\"MSE: %0.2f\" % mean_squared_error(Y,predicted))\n",
    "MSE_RFE.append(mean_squared_error(Y,predicted))\n",
    "                                 \n",
    "print('feature selection on random forest')\n",
    "rfe_forest = RFE(forest,best_features).fit(X,Y)\n",
    "mask = np.array(rfe_forest.support_)\n",
    "scores = cross_val_score(forest, X[:,mask], Y, cv=cv)\n",
    "print(\"R2: %0.2f (+/- %0.2f)\" % (scores.mean(), scores.std() * 2))\n",
    "predicted = cross_val_predict(forest, X[:,mask],Y, cv=cv)\n",
    "print(\"MSE: %0.2f\" % mean_squared_error(Y,predicted))\n",
    "MSE_RFE.append(mean_squared_error(Y,predicted))\n",
    "                                 \n",
    "                                 \n",
    "print('feature selection on linear support vector machine')\n",
    "rfe_svm = RFE(svm_lin,best_features).fit(X,Y)\n",
    "mask = np.array(rfe_svm.support_)\n",
    "scores = cross_val_score(svm_lin, X[:,mask], Y, cv=cv)\n",
    "print(\"R2: %0.2f (+/- %0.2f)\" % (scores.mean(), scores.std() * 2))\n",
    "predicted = cross_val_predict(svm_lin, X,Y, cv=cv)\n",
    "print(\"MSE: %0.2f\" % mean_squared_error(Y,predicted))\n",
    "MSE_RFE.append(mean_squared_error(Y,predicted))"
   ]
  },
  {
   "cell_type": "code",
   "execution_count": 27,
   "metadata": {},
   "outputs": [
    {
     "data": {
      "text/plain": [
       "[<matplotlib.lines.Line2D at 0x11d344470>]"
      ]
     },
     "execution_count": 27,
     "metadata": {},
     "output_type": "execute_result"
    },
    {
     "data": {
      "image/png": "[encoded data removed]",
      "text/plain": [
       "<Figure size 432x288 with 1 Axes>"
      ]
     },
     "metadata": {
      "needs_background": "light"
     },
     "output_type": "display_data"
    }
   ],
   "source": [
    "import matplotlib.pyplot as plt\n",
    "\n",
    "plt.plot(MSE[:6], 'ro') # shuffle wo rfe\n",
    "plt.plot(MSE_RFE, 'bo') # shuffle rfe"
   ]
  },
  {
   "cell_type": "code",
   "execution_count": 28,
   "metadata": {},
   "outputs": [
    {
     "name": "stdout",
     "output_type": "stream",
     "text": [
      "feature selection on linear regression\n",
      "R2: 0.16 (+/- 1.59)\n",
      "MSE: 39.50\n",
      "feature selection ridge regression\n",
      "R2: 0.16 (+/- 1.71)\n",
      "MSE: 39.14\n",
      "feature selection on lasso regression\n",
      "R2: 0.21 (+/- 1.15)\n",
      "MSE: 32.70\n",
      "feature selection on decision tree\n",
      "R2: -0.26 (+/- 1.41)\n",
      "MSE: 37.05\n",
      "feature selection on random forest\n",
      "R2: 0.32 (+/- 1.21)\n",
      "MSE: 24.70\n",
      "feature selection on linear support vector machine\n",
      "R2: 0.14 (+/- 2.07)\n",
      "MSE: 32.39\n"
     ]
    }
   ],
   "source": [
    "cv = 10\n",
    "MSE_RFE_shuffle = []\n",
    "print('feature selection on linear regression')\n",
    "rfe_lin = RFE(lin,best_features).fit(X,Y)\n",
    "mask = np.array(rfe_lin.support_)\n",
    "scores = cross_val_score(lin, X[:,mask], Y, cv=cv)\n",
    "print(\"R2: %0.2f (+/- %0.2f)\" % (scores.mean(), scores.std() * 2))\n",
    "predicted = cross_val_predict(lin, X[:,mask],Y, cv=cv)\n",
    "print(\"MSE: %0.2f\" % mean_squared_error(Y,predicted))\n",
    "MSE_RFE_shuffle.append(mean_squared_error(Y,predicted))\n",
    "\n",
    "print('feature selection ridge regression')\n",
    "rfe_ridge = RFE(ridge,best_features).fit(X,Y)\n",
    "mask = np.array(rfe_ridge.support_)\n",
    "scores = cross_val_score(ridge, X[:,mask], Y, cv=cv)\n",
    "print(\"R2: %0.2f (+/- %0.2f)\" % (scores.mean(), scores.std() * 2))\n",
    "predicted = cross_val_predict(ridge, X[:,mask],Y, cv=cv)\n",
    "print(\"MSE: %0.2f\" % mean_squared_error(Y,predicted))\n",
    "MSE_RFE_shuffle.append(mean_squared_error(Y,predicted))\n",
    "\n",
    "print('feature selection on lasso regression')\n",
    "rfe_lasso = RFE(lasso,best_features).fit(X,Y)\n",
    "mask = np.array(rfe_lasso.support_)\n",
    "scores = cross_val_score(lasso, X[:,mask], Y, cv=cv)\n",
    "print(\"R2: %0.2f (+/- %0.2f)\" % (scores.mean(), scores.std() * 2))\n",
    "predicted = cross_val_predict(lasso, X[:,mask],Y, cv=cv)\n",
    "print(\"MSE: %0.2f\" % mean_squared_error(Y,predicted))\n",
    "MSE_RFE_shuffle.append(mean_squared_error(Y,predicted))\n",
    "\n",
    "print('feature selection on decision tree')\n",
    "rfe_tree = RFE(tree,best_features).fit(X,Y)\n",
    "mask = np.array(rfe_tree.support_)\n",
    "scores = cross_val_score(tree, X[:,mask], Y, cv=cv)\n",
    "print(\"R2: %0.2f (+/- %0.2f)\" % (scores.mean(), scores.std()))\n",
    "predicted = cross_val_predict(tree, X[:,mask],Y, cv=cv)\n",
    "print(\"MSE: %0.2f\" % mean_squared_error(Y,predicted))\n",
    "MSE_RFE_shuffle.append(mean_squared_error(Y,predicted))\n",
    "                                 \n",
    "print('feature selection on random forest')\n",
    "rfe_forest = RFE(forest,best_features).fit(X,Y)\n",
    "mask = np.array(rfe_forest.support_)\n",
    "scores = cross_val_score(forest, X[:,mask], Y, cv=cv)\n",
    "print(\"R2: %0.2f (+/- %0.2f)\" % (scores.mean(), scores.std() * 2))\n",
    "predicted = cross_val_predict(forest, X[:,mask],Y, cv=cv)\n",
    "print(\"MSE: %0.2f\" % mean_squared_error(Y,predicted))\n",
    "MSE_RFE_shuffle.append(mean_squared_error(Y,predicted))\n",
    "                                 \n",
    "                                 \n",
    "print('feature selection on linear support vector machine')\n",
    "rfe_svm = RFE(svm_lin,best_features).fit(X,Y)\n",
    "mask = np.array(rfe_svm.support_)\n",
    "scores = cross_val_score(svm_lin, X[:,mask], Y, cv=cv)\n",
    "print(\"R2: %0.2f (+/- %0.2f)\" % (scores.mean(), scores.std() * 2))\n",
    "predicted = cross_val_predict(svm_lin, X,Y, cv=cv)\n",
    "print(\"MSE: %0.2f\" % mean_squared_error(Y,predicted))\n",
    "MSE_RFE_shuffle.append(mean_squared_error(Y,predicted))"
   ]
  },
  {
   "cell_type": "code",
   "execution_count": 29,
   "metadata": {},
   "outputs": [
    {
     "data": {
      "text/plain": [
       "[<matplotlib.lines.Line2D at 0x11d81f8d0>]"
      ]
     },
     "execution_count": 29,
     "metadata": {},
     "output_type": "execute_result"
    },
    {
     "data": {
      "image/png": "[encoded data removed]",
      "text/plain": [
       "<Figure size 432x288 with 1 Axes>"
      ]
     },
     "metadata": {
      "needs_background": "light"
     },
     "output_type": "display_data"
    }
   ],
   "source": [
    "plt.plot(MSE[:6], 'ro') # shuffle wo rfe\n",
    "plt.plot(MSE_RFE, 'bo') # shuffle rfe\n",
    "plt.plot(MSE_RFE_shuffle, 'go') # rfe no shuffle"
   ]
  },
  {
   "cell_type": "code",
   "execution_count": null,
   "metadata": {},
   "outputs": [],
   "source": []
  }
 ],
 "metadata": {
  "kernelspec": {
   "display_name": "Python 3",
   "language": "python",
   "name": "python3"
  },
  "language_info": {
   "codemirror_mode": {
    "name": "ipython",
    "version": 3
   },
   "file_extension": ".py",
   "mimetype": "text/x-python",
   "name": "python",
   "nbconvert_exporter": "python",
   "pygments_lexer": "ipython3",
   "version": "3.7.2"
  }
 },
 "nbformat": 4,
 "nbformat_minor": 2
}
